{
  "cells": [
    {
      "cell_type": "code",
      "execution_count": null,
      "metadata": {
        "colab": {
          "base_uri": "https://localhost:8080/"
        },
        "id": "8_jPsJBX_uPo",
        "outputId": "8368f73b-184c-46e4-b98c-f2ebcc7ea469"
      },
      "outputs": [
        {
          "output_type": "stream",
          "name": "stdout",
          "text": [
            "Mounted at drive\n"
          ]
        }
      ],
      "source": [
        "from google.colab import drive\n",
        "drive.mount('drive')"
      ]
    },
    {
      "cell_type": "code",
      "execution_count": null,
      "metadata": {
        "id": "dEHbwnt78wca"
      },
      "outputs": [],
      "source": [
        "import math\n",
        "import matplotlib.pyplot as plt\n",
        "import pandas as pd\n",
        "import os\n",
        "import shutil\n",
        "import json\n",
        "import urllib\n",
        "from requests import get\n",
        "from pandas import json_normalize"
      ]
    },
    {
      "cell_type": "code",
      "execution_count": null,
      "metadata": {
        "id": "nfMaJEgH_bpw"
      },
      "outputs": [],
      "source": [
        "path = '/content/drive/MyDrive/Degree Project/dataset/csv_format/'\n",
        "extracts = '/content/drive/MyDrive/Degree Project/dataset/extracts/'\n",
        "elevation_path = '/content/drive/MyDrive/Degree Project/dataset/extracts/elevation_profiles'\n",
        "local_path = '/content/'\n",
        "shape_df = pd.read_csv(path + 'shapes.csv')"
      ]
    },
    {
      "cell_type": "code",
      "execution_count": null,
      "metadata": {
        "colab": {
          "base_uri": "https://localhost:8080/",
          "height": 206
        },
        "id": "jLud4vQTDF7f",
        "outputId": "f392b7b6-304d-4cea-e90b-e34c84f8392e"
      },
      "outputs": [
        {
          "output_type": "execute_result",
          "data": {
            "text/html": [
              "\n",
              "  <div id=\"df-b96be751-fce3-4740-b111-4e8dc7afc183\">\n",
              "    <div class=\"colab-df-container\">\n",
              "      <div>\n",
              "<style scoped>\n",
              "    .dataframe tbody tr th:only-of-type {\n",
              "        vertical-align: middle;\n",
              "    }\n",
              "\n",
              "    .dataframe tbody tr th {\n",
              "        vertical-align: top;\n",
              "    }\n",
              "\n",
              "    .dataframe thead th {\n",
              "        text-align: right;\n",
              "    }\n",
              "</style>\n",
              "<table border=\"1\" class=\"dataframe\">\n",
              "  <thead>\n",
              "    <tr style=\"text-align: right;\">\n",
              "      <th></th>\n",
              "      <th>shape_id</th>\n",
              "      <th>shape_pt_lat</th>\n",
              "      <th>shape_pt_lon</th>\n",
              "      <th>shape_pt_sequence</th>\n",
              "      <th>shape_dist_traveled</th>\n",
              "    </tr>\n",
              "  </thead>\n",
              "  <tbody>\n",
              "    <tr>\n",
              "      <th>0</th>\n",
              "      <td>3096</td>\n",
              "      <td>48.42144</td>\n",
              "      <td>-89.26211</td>\n",
              "      <td>0</td>\n",
              "      <td>0</td>\n",
              "    </tr>\n",
              "    <tr>\n",
              "      <th>1</th>\n",
              "      <td>3096</td>\n",
              "      <td>48.43579</td>\n",
              "      <td>-89.21709</td>\n",
              "      <td>108</td>\n",
              "      <td>8690</td>\n",
              "    </tr>\n",
              "    <tr>\n",
              "      <th>2</th>\n",
              "      <td>3100</td>\n",
              "      <td>48.40297</td>\n",
              "      <td>-89.26967</td>\n",
              "      <td>0</td>\n",
              "      <td>0</td>\n",
              "    </tr>\n",
              "    <tr>\n",
              "      <th>3</th>\n",
              "      <td>3100</td>\n",
              "      <td>48.38246</td>\n",
              "      <td>-89.24580</td>\n",
              "      <td>121</td>\n",
              "      <td>7887</td>\n",
              "    </tr>\n",
              "    <tr>\n",
              "      <th>4</th>\n",
              "      <td>3104</td>\n",
              "      <td>48.36516</td>\n",
              "      <td>-89.28197</td>\n",
              "      <td>0</td>\n",
              "      <td>0</td>\n",
              "    </tr>\n",
              "  </tbody>\n",
              "</table>\n",
              "</div>\n",
              "      <button class=\"colab-df-convert\" onclick=\"convertToInteractive('df-b96be751-fce3-4740-b111-4e8dc7afc183')\"\n",
              "              title=\"Convert this dataframe to an interactive table.\"\n",
              "              style=\"display:none;\">\n",
              "        \n",
              "  <svg xmlns=\"http://www.w3.org/2000/svg\" height=\"24px\"viewBox=\"0 0 24 24\"\n",
              "       width=\"24px\">\n",
              "    <path d=\"M0 0h24v24H0V0z\" fill=\"none\"/>\n",
              "    <path d=\"M18.56 5.44l.94 2.06.94-2.06 2.06-.94-2.06-.94-.94-2.06-.94 2.06-2.06.94zm-11 1L8.5 8.5l.94-2.06 2.06-.94-2.06-.94L8.5 2.5l-.94 2.06-2.06.94zm10 10l.94 2.06.94-2.06 2.06-.94-2.06-.94-.94-2.06-.94 2.06-2.06.94z\"/><path d=\"M17.41 7.96l-1.37-1.37c-.4-.4-.92-.59-1.43-.59-.52 0-1.04.2-1.43.59L10.3 9.45l-7.72 7.72c-.78.78-.78 2.05 0 2.83L4 21.41c.39.39.9.59 1.41.59.51 0 1.02-.2 1.41-.59l7.78-7.78 2.81-2.81c.8-.78.8-2.07 0-2.86zM5.41 20L4 18.59l7.72-7.72 1.47 1.35L5.41 20z\"/>\n",
              "  </svg>\n",
              "      </button>\n",
              "      \n",
              "  <style>\n",
              "    .colab-df-container {\n",
              "      display:flex;\n",
              "      flex-wrap:wrap;\n",
              "      gap: 12px;\n",
              "    }\n",
              "\n",
              "    .colab-df-convert {\n",
              "      background-color: #E8F0FE;\n",
              "      border: none;\n",
              "      border-radius: 50%;\n",
              "      cursor: pointer;\n",
              "      display: none;\n",
              "      fill: #1967D2;\n",
              "      height: 32px;\n",
              "      padding: 0 0 0 0;\n",
              "      width: 32px;\n",
              "    }\n",
              "\n",
              "    .colab-df-convert:hover {\n",
              "      background-color: #E2EBFA;\n",
              "      box-shadow: 0px 1px 2px rgba(60, 64, 67, 0.3), 0px 1px 3px 1px rgba(60, 64, 67, 0.15);\n",
              "      fill: #174EA6;\n",
              "    }\n",
              "\n",
              "    [theme=dark] .colab-df-convert {\n",
              "      background-color: #3B4455;\n",
              "      fill: #D2E3FC;\n",
              "    }\n",
              "\n",
              "    [theme=dark] .colab-df-convert:hover {\n",
              "      background-color: #434B5C;\n",
              "      box-shadow: 0px 1px 3px 1px rgba(0, 0, 0, 0.15);\n",
              "      filter: drop-shadow(0px 1px 2px rgba(0, 0, 0, 0.3));\n",
              "      fill: #FFFFFF;\n",
              "    }\n",
              "  </style>\n",
              "\n",
              "      <script>\n",
              "        const buttonEl =\n",
              "          document.querySelector('#df-b96be751-fce3-4740-b111-4e8dc7afc183 button.colab-df-convert');\n",
              "        buttonEl.style.display =\n",
              "          google.colab.kernel.accessAllowed ? 'block' : 'none';\n",
              "\n",
              "        async function convertToInteractive(key) {\n",
              "          const element = document.querySelector('#df-b96be751-fce3-4740-b111-4e8dc7afc183');\n",
              "          const dataTable =\n",
              "            await google.colab.kernel.invokeFunction('convertToInteractive',\n",
              "                                                     [key], {});\n",
              "          if (!dataTable) return;\n",
              "\n",
              "          const docLinkHtml = 'Like what you see? Visit the ' +\n",
              "            '<a target=\"_blank\" href=https://colab.research.google.com/notebooks/data_table.ipynb>data table notebook</a>'\n",
              "            + ' to learn more about interactive tables.';\n",
              "          element.innerHTML = '';\n",
              "          dataTable['output_type'] = 'display_data';\n",
              "          await google.colab.output.renderOutput(dataTable, element);\n",
              "          const docLink = document.createElement('div');\n",
              "          docLink.innerHTML = docLinkHtml;\n",
              "          element.appendChild(docLink);\n",
              "        }\n",
              "      </script>\n",
              "    </div>\n",
              "  </div>\n",
              "  "
            ],
            "text/plain": [
              "   shape_id  shape_pt_lat  shape_pt_lon  shape_pt_sequence  \\\n",
              "0      3096      48.42144     -89.26211                  0   \n",
              "1      3096      48.43579     -89.21709                108   \n",
              "2      3100      48.40297     -89.26967                  0   \n",
              "3      3100      48.38246     -89.24580                121   \n",
              "4      3104      48.36516     -89.28197                  0   \n",
              "\n",
              "   shape_dist_traveled  \n",
              "0                    0  \n",
              "1                 8690  \n",
              "2                    0  \n",
              "3                 7887  \n",
              "4                    0  "
            ]
          },
          "metadata": {},
          "execution_count": 4
        }
      ],
      "source": [
        "shape_data = shape_df.groupby(['shape_id'])\n",
        "shape_data = shape_data.first().append(shape_data.last()).sort_index().reset_index().drop_duplicates()\n",
        "shape_data = shape_data.sort_values(['shape_id', 'shape_pt_sequence'], ascending = True)\n",
        "shape_data = shape_data.drop(shape_data[shape_data.shape_id == 3027].index).reset_index(drop=True) # dropping redundant shapes\n",
        "shape_data.head()"
      ]
    },
    {
      "cell_type": "code",
      "execution_count": null,
      "metadata": {
        "id": "Uboppq7vVMp2"
      },
      "outputs": [],
      "source": [
        "shape_ids = list(shape_data.shape_id.unique())"
      ]
    },
    {
      "cell_type": "code",
      "execution_count": null,
      "metadata": {
        "id": "tvNrfndFKMYA"
      },
      "outputs": [],
      "source": [
        "P1 = shape_data[['shape_pt_lat', 'shape_pt_lon']][::2].to_numpy().tolist()\n",
        "P2 = shape_data[['shape_pt_lat', 'shape_pt_lon']][1::2].to_numpy().tolist()\n",
        "h_dist = (shape_data['shape_dist_traveled'][1::2] * 0.001).tolist()"
      ]
    },
    {
      "cell_type": "code",
      "execution_count": null,
      "metadata": {
        "id": "ePei8Cqqoo_8"
      },
      "outputs": [],
      "source": [
        "def get_elevation(lat, lon):\n",
        "  '''\n",
        "      script for returning elevation in m from lat, long\n",
        "  '''\n",
        "  if lat is None or lon is None: return None\n",
        "  query = ('https://api.airmap.com/elevation/v1/ele/?points={},{}'.format(lat, lon))\n",
        "    \n",
        "  # Request with a timeout for slow responses\n",
        "  r = get(query, timeout = 20)\n",
        "\n",
        "  # Only get the json response in case of 200 or 201\n",
        "  if r.status_code == 200 or r.status_code == 201:\n",
        "    elevation = json_normalize(r.json())['data'].values[0]\n",
        "  else:\n",
        "    elevation = None\n",
        "  try:\n",
        "    return elevation[0] # m\n",
        "  except:\n",
        "    return elevation"
      ]
    },
    {
      "cell_type": "code",
      "execution_count": null,
      "metadata": {
        "colab": {
          "base_uri": "https://localhost:8080/"
        },
        "id": "k0UlwG8vaQP7",
        "outputId": "cebb5a3a-01a4-4d72-ba0d-a96470bd696c"
      },
      "outputs": [
        {
          "output_type": "execute_result",
          "data": {
            "text/plain": [
              "-8"
            ]
          },
          "metadata": {},
          "execution_count": 8
        }
      ],
      "source": [
        "get_elevation(48.43579000000028, 48.47870000000009)"
      ]
    },
    {
      "cell_type": "code",
      "execution_count": null,
      "metadata": {
        "id": "xglWTR6hJtk9"
      },
      "outputs": [],
      "source": [
        "#HAVERSINE FUNCTION\n",
        "def haversine(lat1,lon1,lat2,lon2):\n",
        "    lat1_rad=math.radians(lat1)\n",
        "    lat2_rad=math.radians(lat2)\n",
        "    lon1_rad=math.radians(lon1)\n",
        "    lon2_rad=math.radians(lon2)\n",
        "    delta_lat=lat2_rad-lat1_rad\n",
        "    delta_lon=lon2_rad-lon1_rad\n",
        "    a=math.sqrt((math.sin(delta_lat/2))**2+math.cos(lat1_rad)*math.cos(lat2_rad)*(math.sin(delta_lon/2))**2)\n",
        "    d=2*6371000*math.asin(a)\n",
        "    return d"
      ]
    },
    {
      "cell_type": "code",
      "execution_count": null,
      "metadata": {
        "id": "V6Nj9_kO59UM"
      },
      "outputs": [],
      "source": [
        "rg_data = {}\n",
        "rg_data['shape_id'] = []\n",
        "rg_data['road_grade(%)'] = []\n",
        "for p1, p2, dist, shape_id in zip(P1, P2, h_dist, shape_ids):\n",
        "  rg_data['shape_id'].append(shape_id)\n",
        "  s = 100 # number of points between points\n",
        "  interval_lat = (p2[0] - p1[0])/s # interval for latitude\n",
        "  interval_lon = (p2[1] - p1[1])/s # interval for longitude\n",
        "  # set new variables for start point\n",
        "  lat0 = p1[0]\n",
        "  lon0 = p1[0]\n",
        "  # list of latitude and longitude\n",
        "  lat_list = [lat0]\n",
        "  lon_list = [lon0]\n",
        "  # generate points\n",
        "  for i in range(s):\n",
        "    lat_step=lat0+interval_lat\n",
        "    lon_step=lon0+interval_lon\n",
        "    lon0=lon_step\n",
        "    lat0=lat_step\n",
        "    lat_list.append(lat_step)\n",
        "    lon_list.append(lon_step)\n",
        "  # distance, elevation, and road grade CALCULATION\n",
        "  d_list, elev_list, rg_list =[], [], [] # distance, elevation, and road grade list\n",
        "  for j in range(len(lat_list)):\n",
        "      lat_p=lat_list[j]\n",
        "      lon_p=lon_list[j]\n",
        "      dp=haversine(lat0,lon0,lat_p,lon_p)/1000 #km\n",
        "      elev = get_elevation(lat_p, lon_p) # m\n",
        "      d_list.append(dp)\n",
        "      elev_list.append(elev)\n",
        "  d_list_rev=d_list[::-1] #reverse list\n",
        "  mean_elev = round((sum(elev_list)/len(elev_list)), 3)\n",
        "  min_elev = min(elev_list)\n",
        "  max_elev = max(elev_list)\n",
        "  distance = d_list_rev[-1]\n",
        "  for i in range(len(d_list_rev)):\n",
        "    try:\n",
        "      rg = (((elev_list[i] + min_elev)*0.001)/d_list_rev[i]) * 100 # road grade %\n",
        "    except:\n",
        "      rg = 0\n",
        "    rg_list.append(rg)\n",
        "  rg_data['road_grade(%)'].append(round((sum(rg_list)/len(rg_list)), 3))\n",
        "  if not os.path.exists(elevation_path):\n",
        "    os.mkdir(elevation_path)\n",
        "    # plot and save elevation profile\n",
        "    image_format = '{}_elevation_profile.png'.format(shape_id)\n",
        "    base_reg=0\n",
        "    plt.figure(figsize=(10,4))\n",
        "    plt.plot(d_list_rev,elev_list)\n",
        "    plt.plot([0,distance],[min_elev,min_elev],'--g',label='min: '+str(min_elev)+' m')\n",
        "    plt.plot([0,distance],[max_elev,max_elev],'--r',label='max: '+str(max_elev)+' m')\n",
        "    plt.plot([0,distance],[mean_elev,mean_elev],'--y',label='ave: '+str(mean_elev)+' m')\n",
        "    plt.fill_between(d_list_rev,elev_list,base_reg,alpha=0.1)\n",
        "    plt.text(d_list_rev[0],elev_list[0],\"P1\")\n",
        "    plt.text(d_list_rev[-1],elev_list[-1],\"P2\")\n",
        "    plt.xlabel(\"Distance(km)\")\n",
        "    plt.ylabel(\"Elevation(m)\")\n",
        "    plt.grid()\n",
        "    plt.legend(fontsize='small')\n",
        "    plt.ioff()\n",
        "    plt.savefig(image_format)\n",
        "    shutil.move(local_path + image_format, elevation_path + '/' + image_format)"
      ]
    },
    {
      "cell_type": "code",
      "execution_count": null,
      "metadata": {
        "id": "Yt_BCkLnNw_4"
      },
      "outputs": [],
      "source": [
        "#rg_data = {}\n",
        "#rg_data['shape_id'] = []\n",
        "#rg_data['road_grade(%)'] = []\n",
        "#for p1, p2, dist, shape_id in zip(P1, P2, h_dist, shape_ids): # for every start and stop...get the road grade\n",
        "  #rg_data['shape_id'].append(shape_id)\n",
        "  #try:\n",
        "    #rg_data['road_grade(%)'].append(((get_elevation(p2)-get_elevation(p1))/dist)*100)\n",
        "  #except:\n",
        "    #rg_data['road_grade(%)'].append('NA')"
      ]
    },
    {
      "cell_type": "code",
      "execution_count": null,
      "metadata": {
        "colab": {
          "base_uri": "https://localhost:8080/",
          "height": 270
        },
        "id": "CUqfEMkR8izi",
        "outputId": "71ad6c24-9c99-4f18-be63-1bc4b0022042"
      },
      "outputs": [
        {
          "output_type": "execute_result",
          "data": {
            "text/html": [
              "\n",
              "  <div id=\"df-ede471a7-19a3-4881-97f6-c84554ce6c7e\">\n",
              "    <div class=\"colab-df-container\">\n",
              "      <div>\n",
              "<style scoped>\n",
              "    .dataframe tbody tr th:only-of-type {\n",
              "        vertical-align: middle;\n",
              "    }\n",
              "\n",
              "    .dataframe tbody tr th {\n",
              "        vertical-align: top;\n",
              "    }\n",
              "\n",
              "    .dataframe thead th {\n",
              "        text-align: right;\n",
              "    }\n",
              "</style>\n",
              "<table border=\"1\" class=\"dataframe\">\n",
              "  <thead>\n",
              "    <tr style=\"text-align: right;\">\n",
              "      <th></th>\n",
              "      <th>shape_id</th>\n",
              "      <th>road_grade(%)</th>\n",
              "    </tr>\n",
              "  </thead>\n",
              "  <tbody>\n",
              "    <tr>\n",
              "      <th>0</th>\n",
              "      <td>3096.0</td>\n",
              "      <td>-2.429</td>\n",
              "    </tr>\n",
              "    <tr>\n",
              "      <th>1</th>\n",
              "      <td>3100.0</td>\n",
              "      <td>-3.604</td>\n",
              "    </tr>\n",
              "    <tr>\n",
              "      <th>2</th>\n",
              "      <td>3104.0</td>\n",
              "      <td>0.000</td>\n",
              "    </tr>\n",
              "    <tr>\n",
              "      <th>3</th>\n",
              "      <td>3111.0</td>\n",
              "      <td>-3.604</td>\n",
              "    </tr>\n",
              "    <tr>\n",
              "      <th>4</th>\n",
              "      <td>3112.0</td>\n",
              "      <td>-3.604</td>\n",
              "    </tr>\n",
              "  </tbody>\n",
              "</table>\n",
              "</div>\n",
              "      <button class=\"colab-df-convert\" onclick=\"convertToInteractive('df-ede471a7-19a3-4881-97f6-c84554ce6c7e')\"\n",
              "              title=\"Convert this dataframe to an interactive table.\"\n",
              "              style=\"display:none;\">\n",
              "        \n",
              "  <svg xmlns=\"http://www.w3.org/2000/svg\" height=\"24px\"viewBox=\"0 0 24 24\"\n",
              "       width=\"24px\">\n",
              "    <path d=\"M0 0h24v24H0V0z\" fill=\"none\"/>\n",
              "    <path d=\"M18.56 5.44l.94 2.06.94-2.06 2.06-.94-2.06-.94-.94-2.06-.94 2.06-2.06.94zm-11 1L8.5 8.5l.94-2.06 2.06-.94-2.06-.94L8.5 2.5l-.94 2.06-2.06.94zm10 10l.94 2.06.94-2.06 2.06-.94-2.06-.94-.94-2.06-.94 2.06-2.06.94z\"/><path d=\"M17.41 7.96l-1.37-1.37c-.4-.4-.92-.59-1.43-.59-.52 0-1.04.2-1.43.59L10.3 9.45l-7.72 7.72c-.78.78-.78 2.05 0 2.83L4 21.41c.39.39.9.59 1.41.59.51 0 1.02-.2 1.41-.59l7.78-7.78 2.81-2.81c.8-.78.8-2.07 0-2.86zM5.41 20L4 18.59l7.72-7.72 1.47 1.35L5.41 20z\"/>\n",
              "  </svg>\n",
              "      </button>\n",
              "      \n",
              "  <style>\n",
              "    .colab-df-container {\n",
              "      display:flex;\n",
              "      flex-wrap:wrap;\n",
              "      gap: 12px;\n",
              "    }\n",
              "\n",
              "    .colab-df-convert {\n",
              "      background-color: #E8F0FE;\n",
              "      border: none;\n",
              "      border-radius: 50%;\n",
              "      cursor: pointer;\n",
              "      display: none;\n",
              "      fill: #1967D2;\n",
              "      height: 32px;\n",
              "      padding: 0 0 0 0;\n",
              "      width: 32px;\n",
              "    }\n",
              "\n",
              "    .colab-df-convert:hover {\n",
              "      background-color: #E2EBFA;\n",
              "      box-shadow: 0px 1px 2px rgba(60, 64, 67, 0.3), 0px 1px 3px 1px rgba(60, 64, 67, 0.15);\n",
              "      fill: #174EA6;\n",
              "    }\n",
              "\n",
              "    [theme=dark] .colab-df-convert {\n",
              "      background-color: #3B4455;\n",
              "      fill: #D2E3FC;\n",
              "    }\n",
              "\n",
              "    [theme=dark] .colab-df-convert:hover {\n",
              "      background-color: #434B5C;\n",
              "      box-shadow: 0px 1px 3px 1px rgba(0, 0, 0, 0.15);\n",
              "      filter: drop-shadow(0px 1px 2px rgba(0, 0, 0, 0.3));\n",
              "      fill: #FFFFFF;\n",
              "    }\n",
              "  </style>\n",
              "\n",
              "      <script>\n",
              "        const buttonEl =\n",
              "          document.querySelector('#df-ede471a7-19a3-4881-97f6-c84554ce6c7e button.colab-df-convert');\n",
              "        buttonEl.style.display =\n",
              "          google.colab.kernel.accessAllowed ? 'block' : 'none';\n",
              "\n",
              "        async function convertToInteractive(key) {\n",
              "          const element = document.querySelector('#df-ede471a7-19a3-4881-97f6-c84554ce6c7e');\n",
              "          const dataTable =\n",
              "            await google.colab.kernel.invokeFunction('convertToInteractive',\n",
              "                                                     [key], {});\n",
              "          if (!dataTable) return;\n",
              "\n",
              "          const docLinkHtml = 'Like what you see? Visit the ' +\n",
              "            '<a target=\"_blank\" href=https://colab.research.google.com/notebooks/data_table.ipynb>data table notebook</a>'\n",
              "            + ' to learn more about interactive tables.';\n",
              "          element.innerHTML = '';\n",
              "          dataTable['output_type'] = 'display_data';\n",
              "          await google.colab.output.renderOutput(dataTable, element);\n",
              "          const docLink = document.createElement('div');\n",
              "          docLink.innerHTML = docLinkHtml;\n",
              "          element.appendChild(docLink);\n",
              "        }\n",
              "      </script>\n",
              "    </div>\n",
              "  </div>\n",
              "  "
            ],
            "text/plain": [
              "   shape_id  road_grade(%)\n",
              "0    3096.0         -2.429\n",
              "1    3100.0         -3.604\n",
              "2    3104.0          0.000\n",
              "3    3111.0         -3.604\n",
              "4    3112.0         -3.604"
            ]
          },
          "metadata": {},
          "execution_count": 12
        }
      ],
      "source": [
        "rg_data = pd.DataFrame.from_dict(rg_data, orient='index').transpose()\n",
        "rg_data.head()"
      ]
    },
    {
      "cell_type": "code",
      "execution_count": null,
      "metadata": {
        "id": "KHbEjdlhWLnp"
      },
      "outputs": [],
      "source": [
        "rg_data.to_csv('road_grades.csv', index = False)\n",
        "shutil.move(local_path + 'road_grades.csv', extracts + 'road_grades.csv');"
      ]
    }
  ],
  "metadata": {
    "colab": {
      "collapsed_sections": [],
      "name": "RoadGradeCalculator.ipynb",
      "provenance": []
    },
    "kernelspec": {
      "display_name": "Python 3",
      "name": "python3"
    },
    "language_info": {
      "name": "python"
    }
  },
  "nbformat": 4,
  "nbformat_minor": 0
}